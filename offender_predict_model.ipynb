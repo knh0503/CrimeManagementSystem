{
  "nbformat": 4,
  "nbformat_minor": 0,
  "metadata": {
    "colab": {
      "provenance": [],
      "authorship_tag": "ABX9TyPBkWNzzSzuISm1l9AEUsLY",
      "include_colab_link": true
    },
    "kernelspec": {
      "name": "python3",
      "display_name": "Python 3"
    },
    "language_info": {
      "name": "python"
    }
  },
  "cells": [
    {
      "cell_type": "markdown",
      "metadata": {
        "id": "view-in-github",
        "colab_type": "text"
      },
      "source": [
        "<a href=\"https://colab.research.google.com/github/knh0503/CrimeManagementSystem/blob/main/offender_predict_model.ipynb\" target=\"_parent\"><img src=\"https://colab.research.google.com/assets/colab-badge.svg\" alt=\"Open In Colab\"/></a>"
      ]
    },
    {
      "cell_type": "markdown",
      "source": [
        "# 범인 예측 시스템 개요"
      ],
      "metadata": {
        "id": "VpVKxZjmetUK"
      }
    },
    {
      "cell_type": "markdown",
      "source": [
        "데이터베이스에는 범죄자들의 인적사항이 기록되어 있다.\n",
        "\n",
        "범죄를 저지르고 도망친 용의자를 추적하기 위햐여 데이터베이스를 활용하여 인적사항과 위치기록을 대조하여 용의자의 위치를 예측하려고 한다.\n",
        "\n",
        "\n"
      ],
      "metadata": {
        "id": "nYgjKkkRexg4"
      }
    },
    {
      "cell_type": "markdown",
      "source": [
        "# 데이터베이스 수정 및 추가"
      ],
      "metadata": {
        "id": "m0dhTKf9tJmU"
      }
    },
    {
      "cell_type": "markdown",
      "source": [
        "\n",
        "우선 데이터베이스에 offender_descriptioin 테이블에는 다음 정보들이 있어야 한다.\n",
        "\n",
        "[id, 가해자 id, 나이, 성별, 키, 체중, 범죄 위치, 과거 체포 기록]"
      ],
      "metadata": {
        "id": "IKw4dZ4RtSqu"
      }
    },
    {
      "cell_type": "markdown",
      "source": [
        "# region 테이블에 위치, 경도 추가"
      ],
      "metadata": {
        "id": "tlXn3b6YtUlJ"
      }
    },
    {
      "cell_type": "markdown",
      "source": [
        "region은 0~77까지의 숫자로 이루어져 있다. 이에 위치, 경도를 추가하여 머신러닝 학습에 필요한 특성을 늘린다."
      ],
      "metadata": {
        "id": "ZkpPKQR8tYHH"
      }
    },
    {
      "cell_type": "markdown",
      "source": [],
      "metadata": {
        "id": "komCLSLhtwx8"
      }
    },
    {
      "cell_type": "markdown",
      "source": [],
      "metadata": {
        "id": "-VbYR7Entkz3"
      }
    },
    {
      "cell_type": "code",
      "source": [],
      "metadata": {
        "id": "VWWgFJhztUGK"
      },
      "execution_count": null,
      "outputs": []
    },
    {
      "cell_type": "markdown",
      "source": [],
      "metadata": {
        "id": "sHA0cZLGtOPO"
      }
    },
    {
      "cell_type": "code",
      "source": [],
      "metadata": {
        "id": "-NBDIrV8tJET"
      },
      "execution_count": null,
      "outputs": []
    },
    {
      "cell_type": "code",
      "execution_count": null,
      "metadata": {
        "id": "3ecaSAyFeiZ1"
      },
      "outputs": [],
      "source": []
    }
  ]
}