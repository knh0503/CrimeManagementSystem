{
 "cells": [
  {
   "cell_type": "markdown",
   "metadata": {
    "colab_type": "text",
    "id": "view-in-github"
   },
   "source": [
    "<a href=\"https://colab.research.google.com/github/knh0503/CrimeManagementSystem/blob/main/offender_predict_model.ipynb\" target=\"_parent\"><img src=\"https://colab.research.google.com/assets/colab-badge.svg\" alt=\"Open In Colab\"/></a>"
   ]
  },
  {
   "cell_type": "markdown",
   "metadata": {
    "id": "VpVKxZjmetUK"
   },
   "source": [
    "# 범인 예측 시스템 개요"
   ]
  },
  {
   "cell_type": "markdown",
   "metadata": {
    "id": "nYgjKkkRexg4"
   },
   "source": [
    "데이터베이스에는 범죄자들의 인적사항이 기록되어 있다.\n",
    "\n",
    "범죄를 저지르고 도망친 용의자를 추적하기 위햐여 데이터베이스를 활용하여 인적사항과 위치기록을 대조하여 용의자의 위치를 예측하려고 한다.\n",
    "\n",
    "\n"
   ]
  },
  {
   "cell_type": "markdown",
   "metadata": {
    "id": "m0dhTKf9tJmU"
   },
   "source": [
    "# 데이터베이스 수정 및 추가"
   ]
  },
  {
   "cell_type": "markdown",
   "metadata": {
    "id": "IKw4dZ4RtSqu"
   },
   "source": [
    "\n",
    "우선 데이터베이스에 offender_descriptioin 테이블에는 다음 정보들이 있어야 한다.\n",
    "\n",
    "[id, 가해자 id, 나이, 성별, 키, 체중, 범죄 위치, 과거 체포 기록]"
   ]
  },
  {
   "cell_type": "markdown",
   "metadata": {
    "id": "tlXn3b6YtUlJ"
   },
   "source": [
    "# region 테이블에 위치, 경도 추가"
   ]
  },
  {
   "cell_type": "markdown",
   "metadata": {
    "id": "ZkpPKQR8tYHH"
   },
   "source": [
    "region은 0~77까지의 숫자로 이루어져 있다. 이에 위치, 경도를 추가하여 머신러닝 학습에 필요한 특성을 늘린다."
   ]
  },
  {
   "cell_type": "code",
   "execution_count": 12,
   "metadata": {},
   "outputs": [],
   "source": [
    "import psycopg2\n",
    "import random\n",
    "\n",
    "conn = psycopg2.connect(\n",
    "    dbname=\"crimemanagementsystem\",\n",
    "    user=\"dbproject\",\n",
    "    password=\"1234\",\n",
    "    host=\"localhost\",\n",
    "    port=\"5432\"\n",
    ")\n",
    "cursor = conn.cursor()"
   ]
  },
  {
   "cell_type": "code",
   "execution_count": 3,
   "metadata": {},
   "outputs": [],
   "source": [
    "# 1. region 테이블에 latitude와 longitude 컬럼 추가\n",
    "cursor.execute(\"\"\"\n",
    "    ALTER TABLE region\n",
    "    ADD COLUMN IF NOT EXISTS latitude FLOAT,\n",
    "    ADD COLUMN IF NOT EXISTS longitude FLOAT;\n",
    "\"\"\")\n",
    "conn.commit()"
   ]
  },
  {
   "cell_type": "code",
   "execution_count": null,
   "metadata": {},
   "outputs": [],
   "source": [
    "cursor.execute(\"\"\"\n",
    "    update region\n",
    "    set latitude = random() * (90 - (-90)) + (-90),\n",
    "        longtitude = random() * (180 - (-180)) + (-180); \n",
    "\"\"\")\n",
    "conn.commit"
   ]
  },
  {
   "cell_type": "markdown",
   "metadata": {},
   "source": [
    "# offender_description 테이블 추가"
   ]
  },
  {
   "cell_type": "code",
   "execution_count": 4,
   "metadata": {},
   "outputs": [],
   "source": [
    "# 1. offender_description 테이블 생성\n",
    "cursor.execute(\"\"\"\n",
    "    CREATE TABLE offender_description (\n",
    "        offender_id SERIAL PRIMARY KEY,\n",
    "        age INT,\n",
    "        gender bpchar(1),\n",
    "        height FLOAT,\n",
    "        weight FLOAT,\n",
    "        latitude FLOAT,\n",
    "        longitude FLOAT,\n",
    "        previous_lat FLOAT[],\n",
    "        previous_long FLOAT[]\n",
    "    );\n",
    "\"\"\")\n",
    "conn.commit()"
   ]
  },
  {
   "cell_type": "code",
   "execution_count": null,
   "metadata": {},
   "outputs": [],
   "source": [
    "# 2. 기존 offender 테이블 데이터 가져오기\n",
    "cursor.execute(\"SELECT id, age, gender FROM offender\")\n",
    "offenders = cursor.fetchall()"
   ]
  },
  {
   "cell_type": "code",
   "execution_count": null,
   "metadata": {},
   "outputs": [
    {
     "name": "stdout",
     "output_type": "stream",
     "text": [
      "offender_description 테이블 생성 및 데이터 삽입 완료.\n"
     ]
    }
   ],
   "source": [
    "# 3. 각 범죄자 데이터 처리 및 offender_description에 삽입\n",
    "for offender_id, age, gender in offenders:\n",
    "    # 성별에 따른 키와 몸무게 랜덤 생성\n",
    "    if gender == 'M':\n",
    "        height = random.uniform(175, 195)  # 남성 키 범위\n",
    "        weight = random.uniform(65, 95)   # 남성 몸무게 범위\n",
    "    elif gender == 'F':\n",
    "        height = random.uniform(150, 170)  # 여성 키 범위\n",
    "        weight = random.uniform(40, 75)    # 여성 몸무게 범위\n",
    "    else:\n",
    "        height = None\n",
    "        weight = None\n",
    "    \n",
    "    # offender_location에서 region 정보를 통해 latitude, longitude 설정\n",
    "    cursor.execute(f\"\"\"\n",
    "        SELECT r.latitude, r.longitude\n",
    "        FROM offender_location ol\n",
    "        JOIN region r ON ol.region_id = r.id\n",
    "        WHERE ol.offender_id = {offender_id}\n",
    "        LIMIT 1;\n",
    "    \"\"\")\n",
    "    location = cursor.fetchone()\n",
    "    if location:\n",
    "        latitude, longitude = location\n",
    "    else:\n",
    "        latitude = longitude = None\n",
    "\n",
    "    # 과거 체포 위치 랜덤 생성 (1~5개)\n",
    "    num_previous = random.randint(1, 5)\n",
    "    previous_lat = [random.uniform(-90, 90) for _ in range(num_previous)]\n",
    "    previous_long = [random.uniform(-180, 180) for _ in range(num_previous)]\n",
    "\n",
    "    # offender_description 테이블에 데이터 삽입\n",
    "    cursor.execute(\"\"\"\n",
    "        INSERT INTO offender_description (offender_id, age, gender, height, weight, latitude, longitude, previous_lat, previous_long)\n",
    "        VALUES (%s, %s, %s, %s, %s, %s, %s, %s, %s);\n",
    "    \"\"\", (offender_id, age, gender, height, weight, latitude, longitude, previous_lat, previous_long))\n",
    "\n",
    "# 변경 사항 저장 및 연결 종료\n",
    "conn.commit()\n",
    "cursor.close()\n",
    "conn.close()\n",
    "\n",
    "print(\"offender_description 테이블 생성 및 데이터 삽입 완료.\")"
   ]
  },
  {
   "cell_type": "markdown",
   "metadata": {},
   "source": [
    "# longtitude 오류"
   ]
  },
  {
   "cell_type": "markdown",
   "metadata": {},
   "source": [
    "테이블을 확인해 보니 longtitude가 제대로 삽입되지 않았다.\n",
    "    location = cursor.fetchone()\n",
    "    if location:\n",
    "        latitude, longitude = location\n",
    "    else:\n",
    "        latitude = longitude = None\n",
    "\n",
    "이 부분에서 latitude, longtitude = location[0], location[1]이 되어야 하는데 longtitude 값이 무시된 것으로 보인다.\n",
    "따라서 offender_description 테이블의 latitude와 region 테이블의 latitude가 같은 데이터에서 longtitude를 가져와 붙여준다."
   ]
  },
  {
   "cell_type": "code",
   "execution_count": 13,
   "metadata": {},
   "outputs": [],
   "source": [
    "cursor.execute(f\"\"\"\n",
    "UPDATE offender_description od\n",
    "SET longitude = r.longitude\n",
    "FROM region r\n",
    "WHERE od.latitude = r.latitude;\n",
    "\"\"\")"
   ]
  },
  {
   "cell_type": "code",
   "execution_count": 14,
   "metadata": {},
   "outputs": [],
   "source": [
    "conn.commit()\n",
    "cursor.close()\n",
    "conn.close()"
   ]
  },
  {
   "cell_type": "markdown",
   "metadata": {},
   "source": [
    "여전히 제대로 경도가 입력되지 않았다. 알고보니 longtitude로 잘못 입력했다."
   ]
  }
 ],
 "metadata": {
  "colab": {
   "authorship_tag": "ABX9TyPBkWNzzSzuISm1l9AEUsLY",
   "include_colab_link": true,
   "provenance": []
  },
  "kernelspec": {
   "display_name": "Python 3",
   "name": "python3"
  },
  "language_info": {
   "codemirror_mode": {
    "name": "ipython",
    "version": 3
   },
   "file_extension": ".py",
   "mimetype": "text/x-python",
   "name": "python",
   "nbconvert_exporter": "python",
   "pygments_lexer": "ipython3",
   "version": "3.12.3"
  }
 },
 "nbformat": 4,
 "nbformat_minor": 0
}
