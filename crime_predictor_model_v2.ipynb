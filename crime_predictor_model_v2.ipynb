{
  "nbformat": 4,
  "nbformat_minor": 0,
  "metadata": {
    "colab": {
      "provenance": [],
      "mount_file_id": "17tF50MO32X7W4tOMeQ38wDl6lPZSQq5Q",
      "authorship_tag": "ABX9TyOjRr+5T2fnjVodm2lC7B56",
      "include_colab_link": true
    },
    "kernelspec": {
      "name": "python3",
      "display_name": "Python 3"
    },
    "language_info": {
      "name": "python"
    }
  },
  "cells": [
    {
      "cell_type": "markdown",
      "metadata": {
        "id": "view-in-github",
        "colab_type": "text"
      },
      "source": [
        "<a href=\"https://colab.research.google.com/github/knh0503/CrimeManagementSystem/blob/main/crime_predictor_model_v2.ipynb\" target=\"_parent\"><img src=\"https://colab.research.google.com/assets/colab-badge.svg\" alt=\"Open In Colab\"/></a>"
      ]
    },
    {
      "cell_type": "markdown",
      "source": [
        "# CSV 파일 준비"
      ],
      "metadata": {
        "id": "h7KWhEAEbIM2"
      }
    },
    {
      "cell_type": "markdown",
      "source": [
        "1. 테이블을 dump 하여 만든 csv 파일을 구글 드라이브에\n",
        "\n",
        "2. 코랩에 드라이브를 마운트하여 csv 파일을 사용할 수 있도록 준비\n",
        "\n",
        "3. csv 파일 경로를 복사하여 csv 파일을 읽어 데이터 준비"
      ],
      "metadata": {
        "id": "wRjAPBl3Zibj"
      }
    },
    {
      "cell_type": "markdown",
      "source": [
        "# 그룹화 및 crime_count 칼럼 추가"
      ],
      "metadata": {
        "id": "1ivZX1DVAUmV"
      }
    },
    {
      "cell_type": "markdown",
      "source": [
        "각 지역마다 시간대별 범죄 횟수를 카운트하여 새로운 칼럼으로 추가해준다.\n",
        "\n",
        "1. df.groupby(['region', 'month', 'week', 'day_of_week'])\n",
        "  - groupby는 데이터를 지정된 컬럼을 기준으로 그룹화\n",
        "\n",
        "2. .size()\n",
        "  - size()는 그룹별 데이터의 크기(개수)를 계산\n",
        "\n",
        "3. .reset_index(name='crime_count')\n",
        "  - 계산 결과를 새로운 데이터프레임으로 변환하고, 컬럼 이름을 crime_count로 설정"
      ],
      "metadata": {
        "id": "apmXCpdw12La"
      }
    },
    {
      "cell_type": "code",
      "execution_count": null,
      "metadata": {
        "colab": {
          "base_uri": "https://localhost:8080/"
        },
        "id": "s-qlgEV1AX38",
        "outputId": "16825d55-c267-4cae-e67f-8818d8b4723b"
      },
      "outputs": [
        {
          "output_type": "stream",
          "name": "stdout",
          "text": [
            "   region  month  week day_of_week  crime_count\n",
            "0     0.0      1     2   Wednesday            1\n",
            "1     0.0      2     2     Tuesday            1\n",
            "2     0.0      2     3      Sunday            1\n",
            "3     0.0      3     1      Monday            1\n",
            "4     0.0      3     4      Friday            1\n"
          ]
        }
      ],
      "source": [
        "import pandas as pd\n",
        "\n",
        "# 파일 경로 지정\n",
        "file_path = '/content/drive/MyDrive/files/crime_time_region_data.csv'\n",
        "\n",
        "# CSV 파일 읽기\n",
        "data = pd.read_csv(file_path)\n",
        "\n",
        "# 그룹화하여 범죄 횟수 계산\n",
        "grouped_data = data.groupby(['region', 'month', 'week', 'day_of_week']).size().reset_index(name='crime_count')\n",
        "\n",
        "# 데이터 확인\n",
        "print(grouped_data.head())  # 첫 5행 출력"
      ]
    },
    {
      "cell_type": "markdown",
      "source": [
        "# day_of_week 데이터 인코딩"
      ],
      "metadata": {
        "id": "iZwa3s4pbNaj"
      }
    },
    {
      "cell_type": "markdown",
      "source": [
        "머신러닝 모델을 사용하기 위해서는 Monday와 같은 str변수를 int로 변환해줘야 한다.\n",
        "\n",
        "이를 위해 dict에 원하는 순서대로 저장한후 map을 사용하여 매핑을 진행해준다."
      ],
      "metadata": {
        "id": "KRayPalWCffe"
      }
    },
    {
      "cell_type": "code",
      "source": [
        "# 요일을 원하는 순서로 인코딩 (일월화수목금토 = 0123456)\n",
        "day_mapping = {\n",
        "    'Sunday' : 0,\n",
        "    'Monday' : 1,\n",
        "    'Tuesday' : 2,\n",
        "    'Wednesday' : 3,\n",
        "    'Thursday' : 4,\n",
        "    'Friday' : 5,\n",
        "    'Saturday' : 6\n",
        "}\n",
        "\n",
        "# 매핑 적용\n",
        "grouped_data['day_of_week_encoded'] = grouped_data['day_of_week'].map(day_mapping)\n"
      ],
      "metadata": {
        "id": "JbAgLwUDEGe2"
      },
      "execution_count": null,
      "outputs": []
    },
    {
      "cell_type": "markdown",
      "source": [
        "# 훈련 세트, 데이터 세트 분할"
      ],
      "metadata": {
        "id": "r2TPu7MbFU_n"
      }
    },
    {
      "cell_type": "code",
      "source": [
        "from sklearn.model_selection import train_test_split\n",
        "\n",
        "X = grouped_data[['region', 'month', 'week', 'day_of_week_encoded']]\n",
        "y = grouped_data['crime_count']\n",
        "\n",
        "X_train, X_test, y_train, y_test = train_test_split(X, y, test_size=0.2, random_state=42)"
      ],
      "metadata": {
        "id": "hJXen2oCFYZ3"
      },
      "execution_count": null,
      "outputs": []
    },
    {
      "cell_type": "markdown",
      "source": [
        "# HistGradientBoostingRegressor 모델 정의 및 훈련"
      ],
      "metadata": {
        "id": "Ifx1wx1nGA9S"
      }
    },
    {
      "cell_type": "markdown",
      "source": [
        "히스토그램 기반 그래디언트부스팅 모델은 확률적 경사 하강법을 응용하여, 깊이가 얕은 트리를 사용하여 이전 트리를 보완하는 형식으로 앙상블하는 머신러닝 모델이다. 입력값을 히스토그램으로 변환하기 위하여 input을 256개의 구간으로 나눈다."
      ],
      "metadata": {
        "id": "tajHi03JGsLV"
      }
    },
    {
      "cell_type": "code",
      "source": [
        "from sklearn.ensemble import HistGradientBoostingRegressor\n",
        "\n",
        "# HistGradientBoosting 모델 정의 및 학습\n",
        "model = HistGradientBoostingRegressor(\n",
        "    max_iter=500,                        # 부스팅 스테이지 수(에포크 횟수)\n",
        "    max_depth=5,                        # 트리 최대 깊이\n",
        "    min_samples_leaf=5,                       # 리프 노드의 최소 샘플 수\n",
        "    learning_rate=0.05,                   # 학습률\n",
        "    l2_regularization=1.0,               # L2 정규화 강도\n",
        "    random_state=42\n",
        ")\n",
        "\n",
        "# 모델 학습\n",
        "model.fit(X_train, y_train)"
      ],
      "metadata": {
        "colab": {
          "base_uri": "https://localhost:8080/",
          "height": 115
        },
        "id": "Voca5vNRGTnx",
        "outputId": "16c99bfc-02ce-4221-c2e5-324b9fda86ac"
      },
      "execution_count": null,
      "outputs": [
        {
          "output_type": "execute_result",
          "data": {
            "text/plain": [
              "HistGradientBoostingRegressor(l2_regularization=1.0, learning_rate=0.05,\n",
              "                              max_depth=5, max_iter=500, min_samples_leaf=5,\n",
              "                              random_state=42)"
            ],
            "text/html": [
              "<style>#sk-container-id-3 {\n",
              "  /* Definition of color scheme common for light and dark mode */\n",
              "  --sklearn-color-text: black;\n",
              "  --sklearn-color-line: gray;\n",
              "  /* Definition of color scheme for unfitted estimators */\n",
              "  --sklearn-color-unfitted-level-0: #fff5e6;\n",
              "  --sklearn-color-unfitted-level-1: #f6e4d2;\n",
              "  --sklearn-color-unfitted-level-2: #ffe0b3;\n",
              "  --sklearn-color-unfitted-level-3: chocolate;\n",
              "  /* Definition of color scheme for fitted estimators */\n",
              "  --sklearn-color-fitted-level-0: #f0f8ff;\n",
              "  --sklearn-color-fitted-level-1: #d4ebff;\n",
              "  --sklearn-color-fitted-level-2: #b3dbfd;\n",
              "  --sklearn-color-fitted-level-3: cornflowerblue;\n",
              "\n",
              "  /* Specific color for light theme */\n",
              "  --sklearn-color-text-on-default-background: var(--sg-text-color, var(--theme-code-foreground, var(--jp-content-font-color1, black)));\n",
              "  --sklearn-color-background: var(--sg-background-color, var(--theme-background, var(--jp-layout-color0, white)));\n",
              "  --sklearn-color-border-box: var(--sg-text-color, var(--theme-code-foreground, var(--jp-content-font-color1, black)));\n",
              "  --sklearn-color-icon: #696969;\n",
              "\n",
              "  @media (prefers-color-scheme: dark) {\n",
              "    /* Redefinition of color scheme for dark theme */\n",
              "    --sklearn-color-text-on-default-background: var(--sg-text-color, var(--theme-code-foreground, var(--jp-content-font-color1, white)));\n",
              "    --sklearn-color-background: var(--sg-background-color, var(--theme-background, var(--jp-layout-color0, #111)));\n",
              "    --sklearn-color-border-box: var(--sg-text-color, var(--theme-code-foreground, var(--jp-content-font-color1, white)));\n",
              "    --sklearn-color-icon: #878787;\n",
              "  }\n",
              "}\n",
              "\n",
              "#sk-container-id-3 {\n",
              "  color: var(--sklearn-color-text);\n",
              "}\n",
              "\n",
              "#sk-container-id-3 pre {\n",
              "  padding: 0;\n",
              "}\n",
              "\n",
              "#sk-container-id-3 input.sk-hidden--visually {\n",
              "  border: 0;\n",
              "  clip: rect(1px 1px 1px 1px);\n",
              "  clip: rect(1px, 1px, 1px, 1px);\n",
              "  height: 1px;\n",
              "  margin: -1px;\n",
              "  overflow: hidden;\n",
              "  padding: 0;\n",
              "  position: absolute;\n",
              "  width: 1px;\n",
              "}\n",
              "\n",
              "#sk-container-id-3 div.sk-dashed-wrapped {\n",
              "  border: 1px dashed var(--sklearn-color-line);\n",
              "  margin: 0 0.4em 0.5em 0.4em;\n",
              "  box-sizing: border-box;\n",
              "  padding-bottom: 0.4em;\n",
              "  background-color: var(--sklearn-color-background);\n",
              "}\n",
              "\n",
              "#sk-container-id-3 div.sk-container {\n",
              "  /* jupyter's `normalize.less` sets `[hidden] { display: none; }`\n",
              "     but bootstrap.min.css set `[hidden] { display: none !important; }`\n",
              "     so we also need the `!important` here to be able to override the\n",
              "     default hidden behavior on the sphinx rendered scikit-learn.org.\n",
              "     See: https://github.com/scikit-learn/scikit-learn/issues/21755 */\n",
              "  display: inline-block !important;\n",
              "  position: relative;\n",
              "}\n",
              "\n",
              "#sk-container-id-3 div.sk-text-repr-fallback {\n",
              "  display: none;\n",
              "}\n",
              "\n",
              "div.sk-parallel-item,\n",
              "div.sk-serial,\n",
              "div.sk-item {\n",
              "  /* draw centered vertical line to link estimators */\n",
              "  background-image: linear-gradient(var(--sklearn-color-text-on-default-background), var(--sklearn-color-text-on-default-background));\n",
              "  background-size: 2px 100%;\n",
              "  background-repeat: no-repeat;\n",
              "  background-position: center center;\n",
              "}\n",
              "\n",
              "/* Parallel-specific style estimator block */\n",
              "\n",
              "#sk-container-id-3 div.sk-parallel-item::after {\n",
              "  content: \"\";\n",
              "  width: 100%;\n",
              "  border-bottom: 2px solid var(--sklearn-color-text-on-default-background);\n",
              "  flex-grow: 1;\n",
              "}\n",
              "\n",
              "#sk-container-id-3 div.sk-parallel {\n",
              "  display: flex;\n",
              "  align-items: stretch;\n",
              "  justify-content: center;\n",
              "  background-color: var(--sklearn-color-background);\n",
              "  position: relative;\n",
              "}\n",
              "\n",
              "#sk-container-id-3 div.sk-parallel-item {\n",
              "  display: flex;\n",
              "  flex-direction: column;\n",
              "}\n",
              "\n",
              "#sk-container-id-3 div.sk-parallel-item:first-child::after {\n",
              "  align-self: flex-end;\n",
              "  width: 50%;\n",
              "}\n",
              "\n",
              "#sk-container-id-3 div.sk-parallel-item:last-child::after {\n",
              "  align-self: flex-start;\n",
              "  width: 50%;\n",
              "}\n",
              "\n",
              "#sk-container-id-3 div.sk-parallel-item:only-child::after {\n",
              "  width: 0;\n",
              "}\n",
              "\n",
              "/* Serial-specific style estimator block */\n",
              "\n",
              "#sk-container-id-3 div.sk-serial {\n",
              "  display: flex;\n",
              "  flex-direction: column;\n",
              "  align-items: center;\n",
              "  background-color: var(--sklearn-color-background);\n",
              "  padding-right: 1em;\n",
              "  padding-left: 1em;\n",
              "}\n",
              "\n",
              "\n",
              "/* Toggleable style: style used for estimator/Pipeline/ColumnTransformer box that is\n",
              "clickable and can be expanded/collapsed.\n",
              "- Pipeline and ColumnTransformer use this feature and define the default style\n",
              "- Estimators will overwrite some part of the style using the `sk-estimator` class\n",
              "*/\n",
              "\n",
              "/* Pipeline and ColumnTransformer style (default) */\n",
              "\n",
              "#sk-container-id-3 div.sk-toggleable {\n",
              "  /* Default theme specific background. It is overwritten whether we have a\n",
              "  specific estimator or a Pipeline/ColumnTransformer */\n",
              "  background-color: var(--sklearn-color-background);\n",
              "}\n",
              "\n",
              "/* Toggleable label */\n",
              "#sk-container-id-3 label.sk-toggleable__label {\n",
              "  cursor: pointer;\n",
              "  display: block;\n",
              "  width: 100%;\n",
              "  margin-bottom: 0;\n",
              "  padding: 0.5em;\n",
              "  box-sizing: border-box;\n",
              "  text-align: center;\n",
              "}\n",
              "\n",
              "#sk-container-id-3 label.sk-toggleable__label-arrow:before {\n",
              "  /* Arrow on the left of the label */\n",
              "  content: \"▸\";\n",
              "  float: left;\n",
              "  margin-right: 0.25em;\n",
              "  color: var(--sklearn-color-icon);\n",
              "}\n",
              "\n",
              "#sk-container-id-3 label.sk-toggleable__label-arrow:hover:before {\n",
              "  color: var(--sklearn-color-text);\n",
              "}\n",
              "\n",
              "/* Toggleable content - dropdown */\n",
              "\n",
              "#sk-container-id-3 div.sk-toggleable__content {\n",
              "  max-height: 0;\n",
              "  max-width: 0;\n",
              "  overflow: hidden;\n",
              "  text-align: left;\n",
              "  /* unfitted */\n",
              "  background-color: var(--sklearn-color-unfitted-level-0);\n",
              "}\n",
              "\n",
              "#sk-container-id-3 div.sk-toggleable__content.fitted {\n",
              "  /* fitted */\n",
              "  background-color: var(--sklearn-color-fitted-level-0);\n",
              "}\n",
              "\n",
              "#sk-container-id-3 div.sk-toggleable__content pre {\n",
              "  margin: 0.2em;\n",
              "  border-radius: 0.25em;\n",
              "  color: var(--sklearn-color-text);\n",
              "  /* unfitted */\n",
              "  background-color: var(--sklearn-color-unfitted-level-0);\n",
              "}\n",
              "\n",
              "#sk-container-id-3 div.sk-toggleable__content.fitted pre {\n",
              "  /* unfitted */\n",
              "  background-color: var(--sklearn-color-fitted-level-0);\n",
              "}\n",
              "\n",
              "#sk-container-id-3 input.sk-toggleable__control:checked~div.sk-toggleable__content {\n",
              "  /* Expand drop-down */\n",
              "  max-height: 200px;\n",
              "  max-width: 100%;\n",
              "  overflow: auto;\n",
              "}\n",
              "\n",
              "#sk-container-id-3 input.sk-toggleable__control:checked~label.sk-toggleable__label-arrow:before {\n",
              "  content: \"▾\";\n",
              "}\n",
              "\n",
              "/* Pipeline/ColumnTransformer-specific style */\n",
              "\n",
              "#sk-container-id-3 div.sk-label input.sk-toggleable__control:checked~label.sk-toggleable__label {\n",
              "  color: var(--sklearn-color-text);\n",
              "  background-color: var(--sklearn-color-unfitted-level-2);\n",
              "}\n",
              "\n",
              "#sk-container-id-3 div.sk-label.fitted input.sk-toggleable__control:checked~label.sk-toggleable__label {\n",
              "  background-color: var(--sklearn-color-fitted-level-2);\n",
              "}\n",
              "\n",
              "/* Estimator-specific style */\n",
              "\n",
              "/* Colorize estimator box */\n",
              "#sk-container-id-3 div.sk-estimator input.sk-toggleable__control:checked~label.sk-toggleable__label {\n",
              "  /* unfitted */\n",
              "  background-color: var(--sklearn-color-unfitted-level-2);\n",
              "}\n",
              "\n",
              "#sk-container-id-3 div.sk-estimator.fitted input.sk-toggleable__control:checked~label.sk-toggleable__label {\n",
              "  /* fitted */\n",
              "  background-color: var(--sklearn-color-fitted-level-2);\n",
              "}\n",
              "\n",
              "#sk-container-id-3 div.sk-label label.sk-toggleable__label,\n",
              "#sk-container-id-3 div.sk-label label {\n",
              "  /* The background is the default theme color */\n",
              "  color: var(--sklearn-color-text-on-default-background);\n",
              "}\n",
              "\n",
              "/* On hover, darken the color of the background */\n",
              "#sk-container-id-3 div.sk-label:hover label.sk-toggleable__label {\n",
              "  color: var(--sklearn-color-text);\n",
              "  background-color: var(--sklearn-color-unfitted-level-2);\n",
              "}\n",
              "\n",
              "/* Label box, darken color on hover, fitted */\n",
              "#sk-container-id-3 div.sk-label.fitted:hover label.sk-toggleable__label.fitted {\n",
              "  color: var(--sklearn-color-text);\n",
              "  background-color: var(--sklearn-color-fitted-level-2);\n",
              "}\n",
              "\n",
              "/* Estimator label */\n",
              "\n",
              "#sk-container-id-3 div.sk-label label {\n",
              "  font-family: monospace;\n",
              "  font-weight: bold;\n",
              "  display: inline-block;\n",
              "  line-height: 1.2em;\n",
              "}\n",
              "\n",
              "#sk-container-id-3 div.sk-label-container {\n",
              "  text-align: center;\n",
              "}\n",
              "\n",
              "/* Estimator-specific */\n",
              "#sk-container-id-3 div.sk-estimator {\n",
              "  font-family: monospace;\n",
              "  border: 1px dotted var(--sklearn-color-border-box);\n",
              "  border-radius: 0.25em;\n",
              "  box-sizing: border-box;\n",
              "  margin-bottom: 0.5em;\n",
              "  /* unfitted */\n",
              "  background-color: var(--sklearn-color-unfitted-level-0);\n",
              "}\n",
              "\n",
              "#sk-container-id-3 div.sk-estimator.fitted {\n",
              "  /* fitted */\n",
              "  background-color: var(--sklearn-color-fitted-level-0);\n",
              "}\n",
              "\n",
              "/* on hover */\n",
              "#sk-container-id-3 div.sk-estimator:hover {\n",
              "  /* unfitted */\n",
              "  background-color: var(--sklearn-color-unfitted-level-2);\n",
              "}\n",
              "\n",
              "#sk-container-id-3 div.sk-estimator.fitted:hover {\n",
              "  /* fitted */\n",
              "  background-color: var(--sklearn-color-fitted-level-2);\n",
              "}\n",
              "\n",
              "/* Specification for estimator info (e.g. \"i\" and \"?\") */\n",
              "\n",
              "/* Common style for \"i\" and \"?\" */\n",
              "\n",
              ".sk-estimator-doc-link,\n",
              "a:link.sk-estimator-doc-link,\n",
              "a:visited.sk-estimator-doc-link {\n",
              "  float: right;\n",
              "  font-size: smaller;\n",
              "  line-height: 1em;\n",
              "  font-family: monospace;\n",
              "  background-color: var(--sklearn-color-background);\n",
              "  border-radius: 1em;\n",
              "  height: 1em;\n",
              "  width: 1em;\n",
              "  text-decoration: none !important;\n",
              "  margin-left: 1ex;\n",
              "  /* unfitted */\n",
              "  border: var(--sklearn-color-unfitted-level-1) 1pt solid;\n",
              "  color: var(--sklearn-color-unfitted-level-1);\n",
              "}\n",
              "\n",
              ".sk-estimator-doc-link.fitted,\n",
              "a:link.sk-estimator-doc-link.fitted,\n",
              "a:visited.sk-estimator-doc-link.fitted {\n",
              "  /* fitted */\n",
              "  border: var(--sklearn-color-fitted-level-1) 1pt solid;\n",
              "  color: var(--sklearn-color-fitted-level-1);\n",
              "}\n",
              "\n",
              "/* On hover */\n",
              "div.sk-estimator:hover .sk-estimator-doc-link:hover,\n",
              ".sk-estimator-doc-link:hover,\n",
              "div.sk-label-container:hover .sk-estimator-doc-link:hover,\n",
              ".sk-estimator-doc-link:hover {\n",
              "  /* unfitted */\n",
              "  background-color: var(--sklearn-color-unfitted-level-3);\n",
              "  color: var(--sklearn-color-background);\n",
              "  text-decoration: none;\n",
              "}\n",
              "\n",
              "div.sk-estimator.fitted:hover .sk-estimator-doc-link.fitted:hover,\n",
              ".sk-estimator-doc-link.fitted:hover,\n",
              "div.sk-label-container:hover .sk-estimator-doc-link.fitted:hover,\n",
              ".sk-estimator-doc-link.fitted:hover {\n",
              "  /* fitted */\n",
              "  background-color: var(--sklearn-color-fitted-level-3);\n",
              "  color: var(--sklearn-color-background);\n",
              "  text-decoration: none;\n",
              "}\n",
              "\n",
              "/* Span, style for the box shown on hovering the info icon */\n",
              ".sk-estimator-doc-link span {\n",
              "  display: none;\n",
              "  z-index: 9999;\n",
              "  position: relative;\n",
              "  font-weight: normal;\n",
              "  right: .2ex;\n",
              "  padding: .5ex;\n",
              "  margin: .5ex;\n",
              "  width: min-content;\n",
              "  min-width: 20ex;\n",
              "  max-width: 50ex;\n",
              "  color: var(--sklearn-color-text);\n",
              "  box-shadow: 2pt 2pt 4pt #999;\n",
              "  /* unfitted */\n",
              "  background: var(--sklearn-color-unfitted-level-0);\n",
              "  border: .5pt solid var(--sklearn-color-unfitted-level-3);\n",
              "}\n",
              "\n",
              ".sk-estimator-doc-link.fitted span {\n",
              "  /* fitted */\n",
              "  background: var(--sklearn-color-fitted-level-0);\n",
              "  border: var(--sklearn-color-fitted-level-3);\n",
              "}\n",
              "\n",
              ".sk-estimator-doc-link:hover span {\n",
              "  display: block;\n",
              "}\n",
              "\n",
              "/* \"?\"-specific style due to the `<a>` HTML tag */\n",
              "\n",
              "#sk-container-id-3 a.estimator_doc_link {\n",
              "  float: right;\n",
              "  font-size: 1rem;\n",
              "  line-height: 1em;\n",
              "  font-family: monospace;\n",
              "  background-color: var(--sklearn-color-background);\n",
              "  border-radius: 1rem;\n",
              "  height: 1rem;\n",
              "  width: 1rem;\n",
              "  text-decoration: none;\n",
              "  /* unfitted */\n",
              "  color: var(--sklearn-color-unfitted-level-1);\n",
              "  border: var(--sklearn-color-unfitted-level-1) 1pt solid;\n",
              "}\n",
              "\n",
              "#sk-container-id-3 a.estimator_doc_link.fitted {\n",
              "  /* fitted */\n",
              "  border: var(--sklearn-color-fitted-level-1) 1pt solid;\n",
              "  color: var(--sklearn-color-fitted-level-1);\n",
              "}\n",
              "\n",
              "/* On hover */\n",
              "#sk-container-id-3 a.estimator_doc_link:hover {\n",
              "  /* unfitted */\n",
              "  background-color: var(--sklearn-color-unfitted-level-3);\n",
              "  color: var(--sklearn-color-background);\n",
              "  text-decoration: none;\n",
              "}\n",
              "\n",
              "#sk-container-id-3 a.estimator_doc_link.fitted:hover {\n",
              "  /* fitted */\n",
              "  background-color: var(--sklearn-color-fitted-level-3);\n",
              "}\n",
              "</style><div id=\"sk-container-id-3\" class=\"sk-top-container\"><div class=\"sk-text-repr-fallback\"><pre>HistGradientBoostingRegressor(l2_regularization=1.0, learning_rate=0.05,\n",
              "                              max_depth=5, max_iter=500, min_samples_leaf=5,\n",
              "                              random_state=42)</pre><b>In a Jupyter environment, please rerun this cell to show the HTML representation or trust the notebook. <br />On GitHub, the HTML representation is unable to render, please try loading this page with nbviewer.org.</b></div><div class=\"sk-container\" hidden><div class=\"sk-item\"><div class=\"sk-estimator fitted sk-toggleable\"><input class=\"sk-toggleable__control sk-hidden--visually\" id=\"sk-estimator-id-3\" type=\"checkbox\" checked><label for=\"sk-estimator-id-3\" class=\"sk-toggleable__label fitted sk-toggleable__label-arrow fitted\">&nbsp;&nbsp;HistGradientBoostingRegressor<a class=\"sk-estimator-doc-link fitted\" rel=\"noreferrer\" target=\"_blank\" href=\"https://scikit-learn.org/1.5/modules/generated/sklearn.ensemble.HistGradientBoostingRegressor.html\">?<span>Documentation for HistGradientBoostingRegressor</span></a><span class=\"sk-estimator-doc-link fitted\">i<span>Fitted</span></span></label><div class=\"sk-toggleable__content fitted\"><pre>HistGradientBoostingRegressor(l2_regularization=1.0, learning_rate=0.05,\n",
              "                              max_depth=5, max_iter=500, min_samples_leaf=5,\n",
              "                              random_state=42)</pre></div> </div></div></div></div>"
            ]
          },
          "metadata": {},
          "execution_count": 34
        }
      ]
    },
    {
      "cell_type": "markdown",
      "source": [
        "# 모델 평가"
      ],
      "metadata": {
        "id": "GkeTDozJJCQq"
      }
    },
    {
      "cell_type": "markdown",
      "source": [
        "## cross_validate"
      ],
      "metadata": {
        "id": "UiU_8WPGJnSD"
      }
    },
    {
      "cell_type": "code",
      "source": [
        "from sklearn.model_selection import cross_validate\n",
        "import numpy as np\n",
        "\n",
        "scores = cross_validate(model, X_train, y_train,\n",
        "                        return_train_score=True)\n",
        "print(np.mean(scores['train_score']), np.mean(scores['test_score']))"
      ],
      "metadata": {
        "colab": {
          "base_uri": "https://localhost:8080/"
        },
        "id": "-icxrSm-Ih0E",
        "outputId": "7eed93b0-e934-4948-ce43-1fd09dced04b"
      },
      "execution_count": null,
      "outputs": [
        {
          "output_type": "stream",
          "name": "stdout",
          "text": [
            "0.9618979534399494 0.957316539668754\n"
          ]
        }
      ]
    },
    {
      "cell_type": "code",
      "source": [
        "from sklearn.model_selection import KFold, cross_val_score, cross_validate\n",
        "\n",
        "kf = KFold(n_splits=5, shuffle=True, random_state=42)\n",
        "scores_cv = cross_val_score(model, X, y, cv=kf)\n",
        "scores_cval = cross_validate(model, X_train, y_train, cv=kf, return_train_score=True)\n",
        "\n",
        "print(\"cross_val_score:\", np.mean(scores_cv))\n",
        "print(\"cross_validate (train):\", np.mean(scores_cval['train_score']))\n",
        "print(\"cross_validate (test):\", np.mean(scores_cval['test_score']))\n"
      ],
      "metadata": {
        "colab": {
          "base_uri": "https://localhost:8080/"
        },
        "id": "i10Jp_e1YMwb",
        "outputId": "13618586-c9bc-4c4b-99f1-39a26597e42f"
      },
      "execution_count": null,
      "outputs": [
        {
          "output_type": "stream",
          "name": "stdout",
          "text": [
            "cross_val_score: 0.957125229996227\n",
            "cross_validate (train): 0.9615993143136145\n",
            "cross_validate (test): 0.9572806080936133\n"
          ]
        }
      ]
    },
    {
      "cell_type": "markdown",
      "source": [
        "## 예측 함수 정의"
      ],
      "metadata": {
        "id": "tItnnQPgJ_jv"
      }
    },
    {
      "cell_type": "code",
      "source": [
        "def predict_crime_count(region, month, week, day_of_week):\n",
        "\n",
        "    # 요일을 인코딩된 숫자로 변환\n",
        "    day_encoded = day_mapping[day_of_week]\n",
        "\n",
        "    # 예측 수행\n",
        "    prediction = model.predict([[region, month, week, day_encoded]])[0]\n",
        "    return round(prediction, 2)"
      ],
      "metadata": {
        "id": "PI9fn2bbKHS7"
      },
      "execution_count": null,
      "outputs": []
    },
    {
      "cell_type": "code",
      "source": [
        "# 예측 예시\n",
        "print(\"\\n예측 예시:\")\n",
        "example_cases = [\n",
        "    (1, 11, 4, \"Sunday\"),\n",
        "    (30, 1, 1, \"Monday\"),\n",
        "    (70, 1, 15, \"Friday\")\n",
        "]\n",
        "\n",
        "for case in example_cases:\n",
        "    region, month, week, day = case\n",
        "    predicted = predict_crime_count(region, month, week, day)\n",
        "    print(f\"Region: {region}, Month: {month}, Week: {week}, Day: {day}\")\n",
        "    print(f\"예측된 범죄 횟수: {predicted}\\n\")"
      ],
      "metadata": {
        "colab": {
          "base_uri": "https://localhost:8080/"
        },
        "id": "RcYbjsq0Ouap",
        "outputId": "3b835ae7-b697-4c4a-c733-9369369b54c2"
      },
      "execution_count": null,
      "outputs": [
        {
          "output_type": "stream",
          "name": "stdout",
          "text": [
            "\n",
            "예측 예시:\n",
            "Region: 1, Month: 11, Week: 4, Day: Sunday\n",
            "예측된 범죄 횟수: 45.06\n",
            "\n",
            "Region: 30, Month: 1, Week: 1, Day: Monday\n",
            "예측된 범죄 횟수: 63.14\n",
            "\n",
            "Region: 70, Month: 1, Week: 15, Day: Friday\n",
            "예측된 범죄 횟수: 19.13\n",
            "\n"
          ]
        },
        {
          "output_type": "stream",
          "name": "stderr",
          "text": [
            "/usr/local/lib/python3.10/dist-packages/sklearn/base.py:493: UserWarning: X does not have valid feature names, but HistGradientBoostingRegressor was fitted with feature names\n",
            "  warnings.warn(\n",
            "/usr/local/lib/python3.10/dist-packages/sklearn/base.py:493: UserWarning: X does not have valid feature names, but HistGradientBoostingRegressor was fitted with feature names\n",
            "  warnings.warn(\n",
            "/usr/local/lib/python3.10/dist-packages/sklearn/base.py:493: UserWarning: X does not have valid feature names, but HistGradientBoostingRegressor was fitted with feature names\n",
            "  warnings.warn(\n"
          ]
        }
      ]
    },
    {
      "cell_type": "markdown",
      "source": [
        "## 모델 성능 평가"
      ],
      "metadata": {
        "id": "EaX29YMQK-Em"
      }
    },
    {
      "cell_type": "code",
      "source": [
        "from sklearn.metrics import mean_squared_error, r2_score\n",
        "from sklearn.model_selection import cross_val_score\n",
        "\n",
        "def evaluate_model():\n",
        "    # 학습 데이터에 대한 예측\n",
        "    y_train_pred = model.predict(X_train)\n",
        "\n",
        "    # 테스트 데이터에 대한 예측\n",
        "    y_test_pred = model.predict(X_test)\n",
        "\n",
        "    # R2 점수 계산\n",
        "    train_r2 = r2_score(y_train, y_train_pred)\n",
        "    test_r2 = r2_score(y_test, y_test_pred)\n",
        "\n",
        "    # RMSE 계산 (mean_squared_error)\n",
        "    train_rmse = np.sqrt(mean_squared_error(y_train, y_train_pred))\n",
        "    test_rmse = np.sqrt(mean_squared_error(y_test, y_test_pred))\n",
        "\n",
        "    # 교차 검증 점수\n",
        "    cv_scores = cross_val_score(model, X, y, cv=5)\n",
        "\n",
        "    print(\"모델 성능 평가:\")\n",
        "    print(f\"Train R² Score: {train_r2:.4f}\")\n",
        "    print(f\"Test R² Score: {test_r2:.4f}\")\n",
        "    print(f\"Train RMSE: {train_rmse:.4f}\")\n",
        "    print(f\"Test RMSE: {test_rmse:.4f}\")\n",
        "    print(f\"5-Fold CV Score: {cv_scores.mean():.4f} (+/- {cv_scores.std() * 2:.4f})\")"
      ],
      "metadata": {
        "id": "jJJ01su1LABC"
      },
      "execution_count": null,
      "outputs": []
    },
    {
      "cell_type": "code",
      "source": [
        "evaluate_model()"
      ],
      "metadata": {
        "colab": {
          "base_uri": "https://localhost:8080/"
        },
        "id": "wEzBAmnOfCpy",
        "outputId": "5b2452f2-4788-4189-bdcf-21c64e1f2744"
      },
      "execution_count": null,
      "outputs": [
        {
          "output_type": "stream",
          "name": "stdout",
          "text": [
            "모델 성능 평가:\n",
            "Train R² Score: 0.9614\n",
            "Test R² Score: 0.9573\n",
            "Train RMSE: 8.5365\n",
            "Test RMSE: 8.9418\n",
            "5-Fold CV Score: -0.3507 (+/- 0.5500)\n"
          ]
        }
      ]
    },
    {
      "cell_type": "markdown",
      "source": [
        "### 5-Fold CV Score 점수 이상"
      ],
      "metadata": {
        "id": "kU9cliGCcLVe"
      }
    },
    {
      "cell_type": "markdown",
      "source": [
        "R2, RMSE 점수는 괜찮지만 5-fold cv score가 음수가 나왔다. 정상적이라면 R2 점수와 비슷해야 한다. 해결을 위하여 전체 세트, 훈련 세트, 테스트 세트 각각에 대하여 교차 검증을 실시했다."
      ],
      "metadata": {
        "id": "Ks0DK3O9b059"
      }
    },
    {
      "cell_type": "code",
      "source": [
        "print(cross_val_score(model, X, y, cv=5))\n",
        "print(cross_val_score(model, X_train, y_train, cv=5))\n",
        "print(cross_val_score(model, X_test, y_test, cv=5))"
      ],
      "metadata": {
        "colab": {
          "base_uri": "https://localhost:8080/"
        },
        "id": "Zxug_ll3YkL4",
        "outputId": "ffbb29de-fc65-473b-9b00-42e75861affd"
      },
      "execution_count": null,
      "outputs": [
        {
          "output_type": "stream",
          "name": "stdout",
          "text": [
            "[ 0.09981474 -0.2299464  -0.63918939 -0.3555572  -0.62866613]\n",
            "[0.95842408 0.95674383 0.95989023 0.95560963 0.95591492]\n",
            "[0.95442285 0.93543786 0.96037149 0.95483375 0.95161919]\n"
          ]
        }
      ]
    },
    {
      "cell_type": "markdown",
      "source": [
        "훈련 세트. 테스트 세트에 대하여 교차 검증을 수행하면 점수가 정상적이지만 전체 세트에 대해서만 점수가 이상하다는 것을 확인하였다.\n",
        "\n",
        "이를 해결하기 위해 X, X_train, X_test와 y, y_train, y_test에 대하여 차이점을 확인해본다."
      ],
      "metadata": {
        "id": "gkHodfIWcRJM"
      }
    },
    {
      "cell_type": "code",
      "source": [
        "# 데이터 크기 확인\n",
        "print(\"X shape:\", X.shape)\n",
        "print(\"X_train shape:\", X_train.shape)\n",
        "print(\"X_test shape:\", X_test.shape)\n",
        "\n",
        "# 데이터 분포 확인\n",
        "print(\"\\nX의 처음 몇 개 샘플:\")\n",
        "print(X.head(10))\n",
        "print(\"\\nX_train의 처음 몇 개 샘플:\")\n",
        "print(X_train.head(10))\n",
        "\n",
        "# 데이터 관측\n",
        "print(\"\\nX의 기술통계\")\n",
        "print(X.describe())\n",
        "print(\"\\nX_train의 기술통계\")\n",
        "print(X_train.describe())\n",
        "print(\"\\nX_test의 기술통계\")\n",
        "print(X_test.describe())"
      ],
      "metadata": {
        "colab": {
          "base_uri": "https://localhost:8080/"
        },
        "id": "Xrkjbnu9dM7x",
        "outputId": "5f35233c-e374-4c53-8f80-53715cccad37"
      },
      "execution_count": null,
      "outputs": [
        {
          "output_type": "stream",
          "name": "stdout",
          "text": [
            "X shape: (31876, 4)\n",
            "X_train shape: (25500, 4)\n",
            "X_test shape: (6376, 4)\n",
            "\n",
            "X의 처음 몇 개 샘플:\n",
            "   region  month  week  day_of_week_encoded\n",
            "0     0.0      1     2                    3\n",
            "1     0.0      2     2                    2\n",
            "2     0.0      2     3                    0\n",
            "3     0.0      3     1                    1\n",
            "4     0.0      3     4                    5\n",
            "5     0.0      5     1                    5\n",
            "6     0.0      5     3                    1\n",
            "7     0.0      5     4                    5\n",
            "8     0.0      6     4                    0\n",
            "9     0.0     10     2                    0\n",
            "\n",
            "X_train의 처음 몇 개 샘플:\n",
            "       region  month  week  day_of_week_encoded\n",
            "28290    69.0      5     1                    2\n",
            "1592      4.0     10     4                    0\n",
            "13088    32.0      8     3                    4\n",
            "29244    71.0      8     4                    0\n",
            "29653    72.0      8     3                    3\n",
            "24191    59.0      6     3                    2\n",
            "17        1.0      1     1                    4\n",
            "5712     14.0     11     1                    4\n",
            "23725    58.0      5     1                    0\n",
            "18957    46.0     10     3                    2\n",
            "\n",
            "X의 기술통계\n",
            "             region         month          week  day_of_week_encoded\n",
            "count  31876.000000  31876.000000  31876.000000         31876.000000\n",
            "mean      39.009066      6.553143      2.970197             2.995169\n",
            "std       22.228811      3.436902      1.403432             1.997718\n",
            "min        0.000000      1.000000      1.000000             0.000000\n",
            "25%       20.000000      4.000000      2.000000             1.000000\n",
            "50%       39.000000      7.000000      3.000000             3.000000\n",
            "75%       58.000000     10.000000      4.000000             5.000000\n",
            "max       77.000000     12.000000      5.000000             6.000000\n",
            "\n",
            "X_train의 기술통계\n",
            "             region         month          week  day_of_week_encoded\n",
            "count  25500.000000  25500.000000  25500.000000         25500.000000\n",
            "mean      39.071922      6.561373      2.967647             2.992745\n",
            "std       22.268837      3.436019      1.403473             1.995206\n",
            "min        0.000000      1.000000      1.000000             0.000000\n",
            "25%       20.000000      4.000000      2.000000             1.000000\n",
            "50%       39.000000      7.000000      3.000000             3.000000\n",
            "75%       58.000000     10.000000      4.000000             5.000000\n",
            "max       77.000000     12.000000      5.000000             6.000000\n",
            "\n",
            "X_test의 기술통계\n",
            "            region        month         week  day_of_week_encoded\n",
            "count  6376.000000  6376.000000  6376.000000          6376.000000\n",
            "mean     38.757685     6.520232     2.980395             3.004862\n",
            "std      22.067954     3.440506     1.403332             2.007861\n",
            "min       0.000000     1.000000     1.000000             0.000000\n",
            "25%      20.000000     4.000000     2.000000             1.000000\n",
            "50%      38.000000     7.000000     3.000000             3.000000\n",
            "75%      58.000000     9.000000     4.000000             5.000000\n",
            "max      77.000000    12.000000     5.000000             6.000000\n"
          ]
        }
      ]
    },
    {
      "cell_type": "code",
      "source": [
        "print(\"y의 기술통계:\")\n",
        "print(y.describe())\n",
        "print(\"\\ny_train의 기술통계:\")\n",
        "print(y_train.describe())\n",
        "print(\"\\ny_test의 기술통계:\")\n",
        "print(y_test.describe())"
      ],
      "metadata": {
        "colab": {
          "base_uri": "https://localhost:8080/"
        },
        "id": "jbFUzhbGdDBa",
        "outputId": "a2e3cb6a-6928-448c-e5e8-247da9f53c0a"
      },
      "execution_count": null,
      "outputs": [
        {
          "output_type": "stream",
          "name": "stdout",
          "text": [
            "y의 기술통계:\n",
            "count    31876.000000\n",
            "mean        45.691994\n",
            "std         43.425468\n",
            "min          1.000000\n",
            "25%         15.000000\n",
            "50%         30.000000\n",
            "75%         65.000000\n",
            "max        341.000000\n",
            "Name: crime_count, dtype: float64\n",
            "\n",
            "y_train의 기술통계:\n",
            "count    25500.000000\n",
            "mean        45.754314\n",
            "std         43.465963\n",
            "min          1.000000\n",
            "25%         15.000000\n",
            "50%         30.000000\n",
            "75%         65.000000\n",
            "max        341.000000\n",
            "Name: crime_count, dtype: float64\n",
            "\n",
            "y_test의 기술통계:\n",
            "count    6376.000000\n",
            "mean       45.442754\n",
            "std        43.265635\n",
            "min         1.000000\n",
            "25%        15.000000\n",
            "50%        30.000000\n",
            "75%        64.000000\n",
            "max       328.000000\n",
            "Name: crime_count, dtype: float64\n"
          ]
        }
      ]
    },
    {
      "cell_type": "markdown",
      "source": [
        "전체 세트, 훈련 세트, 테스트 세트에 대한 기술 통계는 별 차이가 없는 것을 확인하였다.\n",
        "\n",
        "그러나 head()를 사용하여 처음 5개의 샘플을 출력하니 region이 모두 0으로 나왔다. 이는 교차검증을 전체 세트에 대하여 수행할 때 정보의 불균형을 일으킬 수 있다. 기본적으로 shuffle=False이므로 데이터를 섞지 않고 교차검증을 수행하기 때문이다."
      ],
      "metadata": {
        "id": "T4hsxteqeYZQ"
      }
    },
    {
      "cell_type": "markdown",
      "source": [
        "### 점수 이상 원인 분석"
      ],
      "metadata": {
        "id": "Mk7q-cCAiSyM"
      }
    },
    {
      "cell_type": "code",
      "source": [
        "# 교차 검증 점수\n",
        "cv_scores = cross_val_score(model, X, y, cv=5)"
      ],
      "metadata": {
        "id": "90UD6CdFilFd"
      },
      "execution_count": null,
      "outputs": []
    },
    {
      "cell_type": "markdown",
      "source": [
        "위의 코드에서 cv=5를 설정하였는데 이는 kFold(n_splits=5)와 동일하며 shuffle=False로 되어있다. 따라서 X,y에 대하여 교차검증을 할 때 데이터를 섞지 않고 순서대로 5개의 폴드를 나누어 교차 검증이 수행된다.\n",
        "\n",
        "하지만 X를 head를 이용하여 조사하면 0부터 77까지 순서대로 되어 있으므로 데이터가 편향되는 경향을 보이는 것이다.\n",
        "\n",
        "참고로 X_train, X_test의 경우는 train_test_split 함수에서 미리 섞고 훈련 세트, 테스트 세트를 분할하기 때문에 교차 검증에서 정보 편향이 되지 않는다."
      ],
      "metadata": {
        "id": "9zobBQS2ie6_"
      }
    },
    {
      "cell_type": "code",
      "source": [
        "print(X.head)"
      ],
      "metadata": {
        "colab": {
          "base_uri": "https://localhost:8080/"
        },
        "id": "f-92BQyAjIHE",
        "outputId": "77938ec9-068b-4607-a940-366bfbfbd988"
      },
      "execution_count": null,
      "outputs": [
        {
          "output_type": "stream",
          "name": "stdout",
          "text": [
            "<bound method NDFrame.head of        region  month  week  day_of_week_encoded\n",
            "0         0.0      1     2                    3\n",
            "1         0.0      2     2                    2\n",
            "2         0.0      2     3                    0\n",
            "3         0.0      3     1                    1\n",
            "4         0.0      3     4                    5\n",
            "...       ...    ...   ...                  ...\n",
            "31871    77.0     12     5                    6\n",
            "31872    77.0     12     5                    0\n",
            "31873    77.0     12     5                    4\n",
            "31874    77.0     12     5                    2\n",
            "31875    77.0     12     5                    3\n",
            "\n",
            "[31876 rows x 4 columns]>\n"
          ]
        }
      ]
    },
    {
      "cell_type": "markdown",
      "source": [
        "즉 이를 해결 하려면 교차 검증을 할 때 데이터를 섞은 후에 교차 검증을 하면 된다."
      ],
      "metadata": {
        "id": "HyaRmLK-jeYl"
      }
    },
    {
      "cell_type": "markdown",
      "source": [
        "### 문제 해결"
      ],
      "metadata": {
        "id": "ZGNCT_aejnzt"
      }
    },
    {
      "cell_type": "code",
      "source": [
        "from sklearn.metrics import mean_squared_error, r2_score\n",
        "from sklearn.model_selection import cross_val_score, KFold\n",
        "\n",
        "def evaluate_model():\n",
        "    # 학습 데이터에 대한 예측\n",
        "    y_train_pred = model.predict(X_train)\n",
        "\n",
        "    # 테스트 데이터에 대한 예측\n",
        "    y_test_pred = model.predict(X_test)\n",
        "\n",
        "    # R2 점수 계산\n",
        "    train_r2 = r2_score(y_train, y_train_pred)\n",
        "    test_r2 = r2_score(y_test, y_test_pred)\n",
        "\n",
        "    # RMSE 계산 (mean_squared_error)\n",
        "    train_rmse = np.sqrt(mean_squared_error(y_train, y_train_pred))\n",
        "    test_rmse = np.sqrt(mean_squared_error(y_test, y_test_pred))\n",
        "\n",
        "    # 교차 검증 점수\n",
        "    #cv_scores = cross_val_score(model, X, y, cv=5)\n",
        "    kf = KFold(n_splits=5, shuffle=True, random_state=42)\n",
        "    cv_scores = cross_val_score(model, X, y, cv=kf)\n",
        "\n",
        "    print(\"모델 성능 평가:\")\n",
        "    print(f\"Train R² Score: {train_r2:.4f}\")\n",
        "    print(f\"Test R² Score: {test_r2:.4f}\")\n",
        "    print(f\"Train RMSE: {train_rmse:.4f}\")\n",
        "    print(f\"Test RMSE: {test_rmse:.4f}\")\n",
        "    print(f\"5-Fold CV Score: {cv_scores.mean():.4f} (+/- {cv_scores.std() * 2:.4f})\")"
      ],
      "metadata": {
        "id": "snmIgp2rjpyk"
      },
      "execution_count": null,
      "outputs": []
    },
    {
      "cell_type": "code",
      "source": [
        "evaluate_model()"
      ],
      "metadata": {
        "colab": {
          "base_uri": "https://localhost:8080/"
        },
        "id": "FjKFaRDnkMcj",
        "outputId": "7763641a-3f4b-4cc9-9063-2fae0bb5f0e8"
      },
      "execution_count": null,
      "outputs": [
        {
          "output_type": "stream",
          "name": "stdout",
          "text": [
            "모델 성능 평가:\n",
            "Train R² Score: 0.9614\n",
            "Test R² Score: 0.9573\n",
            "Train RMSE: 8.5365\n",
            "Test RMSE: 8.9418\n",
            "5-Fold CV Score: 0.9571 (+/- 0.0010)\n"
          ]
        }
      ]
    },
    {
      "cell_type": "markdown",
      "source": [
        "5-Fold CV Score가 정상적으로 출력되었다."
      ],
      "metadata": {
        "id": "wNvrGzR2kSOm"
      }
    },
    {
      "cell_type": "markdown",
      "source": [
        "## 특성 중요도 분석"
      ],
      "metadata": {
        "id": "4PufOwj-MWxB"
      }
    },
    {
      "cell_type": "code",
      "source": [
        "from sklearn.inspection import permutation_importance\n",
        "\n",
        "# 특성 중요도 계산\n",
        "result = permutation_importance(model, X_test, y_test, n_repeats=10, random_state=42)\n",
        "\n",
        "# 특성 중요도 출력\n",
        "importance = result.importances_mean\n",
        "for i, col in enumerate(X.columns):\n",
        "    print(f\"Feature: {col}, Importance: {importance[i]}\")"
      ],
      "metadata": {
        "colab": {
          "base_uri": "https://localhost:8080/"
        },
        "id": "PemBaP0rMZIG",
        "outputId": "d1eb043d-aca4-468a-a7cf-82ff88670edb"
      },
      "execution_count": null,
      "outputs": [
        {
          "output_type": "stream",
          "name": "stdout",
          "text": [
            "Feature: region, Importance: 1.6631859792436852\n",
            "Feature: month, Importance: 0.02783339880650574\n",
            "Feature: week, Importance: 0.30545935542092534\n",
            "Feature: day_of_week_encoded, Importance: 0.013295641307261973\n"
          ]
        }
      ]
    },
    {
      "cell_type": "markdown",
      "source": [
        "region -> week -> month -> day_of_week 순으로 특성 중요도가 높은 것을 확인할 수 있다."
      ],
      "metadata": {
        "id": "4LbtKIfmQJY4"
      }
    },
    {
      "cell_type": "markdown",
      "source": [
        "## 요일별 통계 분석"
      ],
      "metadata": {
        "id": "0An4nC0TNLtq"
      }
    },
    {
      "cell_type": "code",
      "source": [
        "def analyze_day_stats(grouped_data):\n",
        "    # 요일별 범죄 통계 계산\n",
        "    day_stats = (\n",
        "        grouped_data.groupby('day_of_week')['crime_count']\n",
        "        .agg(['mean', 'count', 'std'])\n",
        "        .round(2)\n",
        "    )\n",
        "\n",
        "    # 요일 순서 정의 및 정렬\n",
        "    day_order = ['Sunday', 'Monday', 'Tuesday', 'Wednesday', 'Thursday', 'Friday', 'Saturday']\n",
        "    day_stats = day_stats.loc[day_order]\n",
        "\n",
        "    print(\"\\n요일별 범죄 통계\")\n",
        "    print(day_stats)"
      ],
      "metadata": {
        "id": "6mRMSRRZNPbz"
      },
      "execution_count": null,
      "outputs": []
    },
    {
      "cell_type": "code",
      "source": [
        "analyze_day_stats(grouped_data)"
      ],
      "metadata": {
        "colab": {
          "base_uri": "https://localhost:8080/"
        },
        "id": "ljoA6DOWQWkv",
        "outputId": "e6761373-a2ec-41da-f272-5d42f302a37e"
      },
      "execution_count": null,
      "outputs": [
        {
          "output_type": "stream",
          "name": "stdout",
          "text": [
            "\n",
            "요일별 범죄 통계\n",
            "              mean  count    std\n",
            "day_of_week                     \n",
            "Sunday       44.60   4533  42.55\n",
            "Monday       44.67   4606  42.28\n",
            "Tuesday      45.43   4536  42.92\n",
            "Wednesday    45.23   4606  43.26\n",
            "Thursday     45.44   4529  42.82\n",
            "Friday       48.22   4534  45.33\n",
            "Saturday     46.27   4532  44.67\n"
          ]
        }
      ]
    },
    {
      "cell_type": "markdown",
      "source": [
        "금요일에 범죄가 가장 많이 일어나고, 월요일에 가장 적게 일어나는 것을 확인할 수 있다."
      ],
      "metadata": {
        "id": "L7TRd32GQ84H"
      }
    },
    {
      "cell_type": "markdown",
      "source": [
        "# GridSearchCV로 최적의 파라미터 찾기"
      ],
      "metadata": {
        "id": "ngAYLdnwkbst"
      }
    },
    {
      "cell_type": "code",
      "source": [
        "# 1. GridSearchCV로 전체 데이터에 대한 최적의 파라미터 찾기\n",
        "from sklearn.model_selection import GridSearchCV\n",
        "\n",
        "param_grid = {\n",
        "    'max_iter': [100, 200, 300, 500],\n",
        "    'max_depth': [3, 4, 5, 10],\n",
        "    'learning_rate': [0.05, 0.1, 0.2]\n",
        "}\n",
        "\n",
        "grid_search = GridSearchCV(model, param_grid, n_jobs=-1)\n",
        "grid_search.fit(X_train, y_train)\n",
        "\n",
        "print(\"Best parameters:\", grid_search.best_params_)\n",
        "print(\"Best CV score:\", grid_search.best_score_)"
      ],
      "metadata": {
        "colab": {
          "base_uri": "https://localhost:8080/"
        },
        "id": "tNgUd0ftklr4",
        "outputId": "ace6bd1e-8ad3-4c2b-fbe6-e66e04e25abb"
      },
      "execution_count": null,
      "outputs": [
        {
          "output_type": "stream",
          "name": "stdout",
          "text": [
            "Best parameters: {'learning_rate': 0.2, 'max_depth': 10, 'max_iter': 300}\n",
            "Best CV score: 0.9615243486020872\n"
          ]
        }
      ]
    },
    {
      "cell_type": "code",
      "source": [
        "dt = grid_search.best_estimator_\n",
        "print(dt.score(X_test, y_test))"
      ],
      "metadata": {
        "colab": {
          "base_uri": "https://localhost:8080/"
        },
        "id": "X48OnlGwn_EF",
        "outputId": "74c906ab-5111-4b3d-de56-8004cd1e2eeb"
      },
      "execution_count": null,
      "outputs": [
        {
          "output_type": "stream",
          "name": "stdout",
          "text": [
            "0.9621395595682536\n"
          ]
        }
      ]
    },
    {
      "cell_type": "markdown",
      "source": [
        "하이퍼 파라미터 튜닝을 위해 GridSearchCV 클래스를 사용하였다.\n",
        "\n",
        "최적의 파라미터를 사용해 학습된 모델은 grid_search.best_params 에 저장되어 있으므로 이를 저장한다."
      ],
      "metadata": {
        "id": "w3A6dYKGl9Wi"
      }
    },
    {
      "cell_type": "markdown",
      "source": [
        "# 완성된 모델로 예측"
      ],
      "metadata": {
        "id": "tnJkHpLtGDzL"
      }
    },
    {
      "cell_type": "code",
      "source": [
        "def predict_crime_count(region, month, week, day_of_week):\n",
        "\n",
        "    # 요일을 인코딩된 숫자로 변환\n",
        "    day_encoded = day_mapping[day_of_week]\n",
        "\n",
        "    # 예측 수행\n",
        "    prediction = dt.predict([[region, month, week, day_encoded]])[0]\n",
        "    return round(prediction, 2)"
      ],
      "metadata": {
        "id": "OtVQSXzKGDUL"
      },
      "execution_count": null,
      "outputs": []
    },
    {
      "cell_type": "code",
      "source": [
        "# 예측 예시\n",
        "print(\"\\n예측 예시:\")\n",
        "example_cases = [\n",
        "    (1, 11, 4, \"Sunday\"),\n",
        "    (30, 1, 1, \"Monday\"),\n",
        "    (70, 1, 15, \"Friday\")\n",
        "]\n",
        "\n",
        "for case in example_cases:\n",
        "    region, month, week, day = case\n",
        "    predicted = predict_crime_count(region, month, week, day)\n",
        "    print(f\"Region: {region}, Month: {month}, Week: {week}, Day: {day}\")\n",
        "    print(f\"예측된 범죄 횟수: {predicted}\\n\")"
      ],
      "metadata": {
        "colab": {
          "base_uri": "https://localhost:8080/"
        },
        "id": "AVdYVqw9F4mX",
        "outputId": "dcef3cf7-7fee-4f2a-e636-975ec735c97c"
      },
      "execution_count": null,
      "outputs": [
        {
          "output_type": "stream",
          "name": "stdout",
          "text": [
            "\n",
            "예측 예시:\n",
            "Region: 1, Month: 11, Week: 4, Day: Sunday\n",
            "예측된 범죄 횟수: 45.1\n",
            "\n",
            "Region: 30, Month: 1, Week: 1, Day: Monday\n",
            "예측된 범죄 횟수: 59.06\n",
            "\n",
            "Region: 70, Month: 1, Week: 15, Day: Friday\n",
            "예측된 범죄 횟수: 24.4\n",
            "\n"
          ]
        },
        {
          "output_type": "stream",
          "name": "stderr",
          "text": [
            "/usr/local/lib/python3.10/dist-packages/sklearn/base.py:493: UserWarning: X does not have valid feature names, but HistGradientBoostingRegressor was fitted with feature names\n",
            "  warnings.warn(\n",
            "/usr/local/lib/python3.10/dist-packages/sklearn/base.py:493: UserWarning: X does not have valid feature names, but HistGradientBoostingRegressor was fitted with feature names\n",
            "  warnings.warn(\n",
            "/usr/local/lib/python3.10/dist-packages/sklearn/base.py:493: UserWarning: X does not have valid feature names, but HistGradientBoostingRegressor was fitted with feature names\n",
            "  warnings.warn(\n"
          ]
        }
      ]
    },
    {
      "cell_type": "markdown",
      "source": [
        "# 모델 저장"
      ],
      "metadata": {
        "id": "FxZoBLhrpCTF"
      }
    },
    {
      "cell_type": "code",
      "source": [
        "import joblib\n",
        "\n",
        "# 최적 모델을 저장\n",
        "joblib.dump(grid_search.best_estimator_, 'crime_predictor_model.pkl')"
      ],
      "metadata": {
        "id": "XIQKzl5ipA-F"
      },
      "execution_count": null,
      "outputs": []
    }
  ]
}