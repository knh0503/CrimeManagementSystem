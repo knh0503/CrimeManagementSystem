{
 "cells": [
  {
   "cell_type": "code",
   "execution_count": 1,
   "metadata": {},
   "outputs": [],
   "source": [
    "import psycopg2\n",
    "import random\n",
    "\n",
    "conn = psycopg2.connect(\n",
    "    dbname=\"crimemanagementsystem\",\n",
    "    user=\"dbproject\",\n",
    "    password=\"1234\",\n",
    "    host=\"localhost\",\n",
    "    port=\"5432\"\n",
    ")\n",
    "cursor = conn.cursor()"
   ]
  },
  {
   "cell_type": "code",
   "execution_count": 3,
   "metadata": {},
   "outputs": [],
   "source": [
    "import pandas as pd\n",
    "\n",
    "# offender_description csv 파일 읽기\n",
    "region_data = pd.read_csv('region_data.csv')"
   ]
  },
  {
   "cell_type": "code",
   "execution_count": 4,
   "metadata": {},
   "outputs": [
    {
     "name": "stdout",
     "output_type": "stream",
     "text": [
      "              id  degree_of_danger  num_of_crime  num_of_police_station  \\\n",
      "count  78.000000         78.000000     78.000000                   78.0   \n",
      "mean   38.500000         39.500000  18675.217949                    1.0   \n",
      "std    22.660538         22.660538  16149.332111                    0.0   \n",
      "min     0.000000          1.000000     55.000000                    1.0   \n",
      "25%    19.250000         20.250000   7046.250000                    1.0   \n",
      "50%    38.500000         39.500000  13173.000000                    1.0   \n",
      "75%    57.750000         58.750000  27964.000000                    1.0   \n",
      "max    77.000000         78.000000  94717.000000                    1.0   \n",
      "\n",
      "        latitude   longitude  \n",
      "count  78.000000   78.000000  \n",
      "mean    9.561448   -5.015013  \n",
      "std    52.868198   97.181657  \n",
      "min   -84.982086 -177.881519  \n",
      "25%   -35.110746  -84.663358  \n",
      "50%     6.106232  -21.191643  \n",
      "75%    61.620012   80.265518  \n",
      "max    89.636941  171.307976  \n"
     ]
    }
   ],
   "source": [
    "print(region_data.describe())"
   ]
  },
  {
   "cell_type": "code",
   "execution_count": 5,
   "metadata": {},
   "outputs": [
    {
     "name": "stderr",
     "output_type": "stream",
     "text": [
      "\u001b[33m * Tip: There are .env or .flaskenv files present. Do \"pip install python-dotenv\" to use them.\u001b[0m\n"
     ]
    },
    {
     "name": "stdout",
     "output_type": "stream",
     "text": [
      " * Serving Flask app '__main__'\n",
      " * Debug mode: on\n"
     ]
    },
    {
     "name": "stderr",
     "output_type": "stream",
     "text": [
      "WARNING: This is a development server. Do not use it in a production deployment. Use a production WSGI server instead.\n",
      " * Running on http://127.0.0.1:5000\n",
      "Press CTRL+C to quit\n",
      " * Restarting with stat\n"
     ]
    },
    {
     "ename": "SystemExit",
     "evalue": "1",
     "output_type": "error",
     "traceback": [
      "An exception has occurred, use %tb to see the full traceback.\n",
      "\u001b[1;31mSystemExit\u001b[0m\u001b[1;31m:\u001b[0m 1\n"
     ]
    },
    {
     "name": "stderr",
     "output_type": "stream",
     "text": [
      "c:\\Users\\kyu00\\AppData\\Local\\Programs\\Python\\Python312\\Lib\\site-packages\\IPython\\core\\interactiveshell.py:3585: UserWarning: To exit: use 'exit', 'quit', or Ctrl-D.\n",
      "  warn(\"To exit: use 'exit', 'quit', or Ctrl-D.\", stacklevel=1)\n"
     ]
    }
   ],
   "source": [
    "import folium\n",
    "from flask import Flask, redirect, request, render_template\n",
    "\n",
    "app = Flask(__name__)\n",
    "\n",
    "@app.route('/map')\n",
    "def show_map():\n",
    "    # region_data.csv 파일 읽기\n",
    "    region_data = pd.read_csv('region_data.csv')\n",
    "    \n",
    "    # 서울의 중심 좌표 (위도, 경도)\n",
    "    seoul_center = [37.5665, 126.9780]\n",
    "    \n",
    "    # 지도 생성 (초기 줌 레벨: 10)\n",
    "    m = folium.Map(location=seoul_center, zoom_start=10)\n",
    "    \n",
    "    # 각 지역의 위치에 마커 추가\n",
    "    for index, row in region_data.iterrows():\n",
    "        # 유효한 위도, 경도 범위 체크\n",
    "        if (-90 <= row['latitude'] <= 90) and (-180 <= row['longitude'] <= 180):\n",
    "            folium.Marker(\n",
    "                location=[row['latitude'], row['longitude']],\n",
    "                popup=f\"Region {row['region_id']}\",\n",
    "                tooltip=f\"Region {row['region_id']}\"\n",
    "            ).add_to(m)\n",
    "    \n",
    "    # 지도를 HTML 파일로 저장\n",
    "    m.save('templates/seoul_regions_map.html')\n",
    "    \n",
    "    # 템플릿 렌더링\n",
    "    return render_template('seoul_regions_map.html')\n",
    "\n",
    "if __name__ == '__main__':\n",
    "    app.run(debug=True)"
   ]
  }
 ],
 "metadata": {
  "kernelspec": {
   "display_name": "Python 3",
   "language": "python",
   "name": "python3"
  },
  "language_info": {
   "codemirror_mode": {
    "name": "ipython",
    "version": 3
   },
   "file_extension": ".py",
   "mimetype": "text/x-python",
   "name": "python",
   "nbconvert_exporter": "python",
   "pygments_lexer": "ipython3",
   "version": "3.12.3"
  }
 },
 "nbformat": 4,
 "nbformat_minor": 2
}
